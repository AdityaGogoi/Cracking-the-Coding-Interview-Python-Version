{
 "cells": [
  {
   "cell_type": "markdown",
   "metadata": {},
   "source": [
    "## Chapter 1. Arrays and Integers"
   ]
  },
  {
   "cell_type": "markdown",
   "metadata": {},
   "source": [
    "### Hash tables\n",
    "#### - Maps keys to values for highly effective lookup.\n",
    "#### - Simply has underlying array with \"Hash Function\". When inserting an object and its key, hash func maps key to an integer, which indicates index to an array. Object is stored in that index.\n",
    "\n",
    "#### This might have some problems:\n",
    "#### - Hash values of all possible keys must be unique, or we risk overwriting data.\n",
    "#### - Array would have to be extremely large to prevent such \"collisions\"."
   ]
  },
  {
   "cell_type": "markdown",
   "metadata": {},
   "source": [
    "#### A solution is to:\n",
    "#### - Store objects in linked lists at index(key) % array_length\n",
    "#### - To get object using a particular key, we can search the linked list for the key.\n",
    "\n",
    "#### We can also implement:\n",
    "#### - Hash table with \"Binary Search Tree\". This guarantees O(log n) lookup time, as we can keep tree balanced.\n",
    "#### - We will also save space as large array doesn't need to be allocated in the beginning."
   ]
  },
  {
   "cell_type": "markdown",
   "metadata": {},
   "source": [
    "#### In python, Hash table is implemented via dictionary.\n",
    "#### Examples are given below\n",
    "\n",
    "#### Empty Dictionary"
   ]
  },
  {
   "cell_type": "code",
   "execution_count": 7,
   "metadata": {},
   "outputs": [
    {
     "data": {
      "text/plain": [
       "{}"
      ]
     },
     "execution_count": 7,
     "metadata": {},
     "output_type": "execute_result"
    }
   ],
   "source": [
    "empty = {}\n",
    "empty"
   ]
  },
  {
   "cell_type": "markdown",
   "metadata": {},
   "source": [
    "#### Simple dictionary implementation "
   ]
  },
  {
   "cell_type": "code",
   "execution_count": 9,
   "metadata": {},
   "outputs": [
    {
     "name": "stdout",
     "output_type": "stream",
     "text": [
      "The french word for red is rouge\n"
     ]
    }
   ],
   "source": [
    "eng_french = {\"red\":\"rouge\", \"green\":\"vert\", \"blue\":\"blue\", \"yellow\":\"jaune\"}\n",
    "print(\"The french word for red is \" + eng_french[\"red\"])"
   ]
  },
  {
   "cell_type": "markdown",
   "metadata": {},
   "source": [
    "#### We can use arbitrary keys as long as they are immutable."
   ]
  },
  {
   "cell_type": "code",
   "execution_count": 11,
   "metadata": {},
   "outputs": [
    {
     "ename": "TypeError",
     "evalue": "unhashable type: 'list'",
     "output_type": "error",
     "traceback": [
      "\u001b[1;31m---------------------------------------------------------------------------\u001b[0m",
      "\u001b[1;31mTypeError\u001b[0m                                 Traceback (most recent call last)",
      "\u001b[1;32m<ipython-input-11-05dc8721db56>\u001b[0m in \u001b[0;36m<module>\u001b[1;34m()\u001b[0m\n\u001b[1;32m----> 1\u001b[1;33m \u001b[0mdic\u001b[0m \u001b[1;33m=\u001b[0m \u001b[1;33m{\u001b[0m\u001b[1;33m[\u001b[0m\u001b[1;36m1\u001b[0m\u001b[1;33m,\u001b[0m\u001b[1;36m2\u001b[0m\u001b[1;33m,\u001b[0m\u001b[1;36m3\u001b[0m\u001b[1;33m]\u001b[0m\u001b[1;33m:\u001b[0m\u001b[1;34m\"abc\"\u001b[0m\u001b[1;33m}\u001b[0m\u001b[1;33m\u001b[0m\u001b[0m\n\u001b[0m",
      "\u001b[1;31mTypeError\u001b[0m: unhashable type: 'list'"
     ]
    }
   ],
   "source": [
    "dic = {[1,2,3]:\"abc\"}"
   ]
  },
  {
   "cell_type": "markdown",
   "metadata": {},
   "source": [
    "#### Tuples will work as they are immutable"
   ]
  },
  {
   "cell_type": "code",
   "execution_count": 18,
   "metadata": {},
   "outputs": [
    {
     "name": "stdout",
     "output_type": "stream",
     "text": [
      "{(1, 2, 3): 'abc', 3.1415: 'abc'}\n"
     ]
    }
   ],
   "source": [
    "dic = {(1,2,3):\"abc\", 3.1415:\"abc\"}\n",
    "print(dic)"
   ]
  },
  {
   "cell_type": "markdown",
   "metadata": {},
   "source": [
    "#### Other operators in dictionaries"
   ]
  },
  {
   "cell_type": "code",
   "execution_count": 20,
   "metadata": {},
   "outputs": [
    {
     "data": {
      "text/plain": [
       "2"
      ]
     },
     "execution_count": 20,
     "metadata": {},
     "output_type": "execute_result"
    }
   ],
   "source": [
    "len(dic) #Return number of stored entries"
   ]
  },
  {
   "cell_type": "code",
   "execution_count": 21,
   "metadata": {
    "collapsed": true
   },
   "outputs": [],
   "source": [
    "del dic[3.1415] # Delete a key along with its value"
   ]
  },
  {
   "cell_type": "code",
   "execution_count": 22,
   "metadata": {},
   "outputs": [
    {
     "data": {
      "text/plain": [
       "True"
      ]
     },
     "execution_count": 22,
     "metadata": {},
     "output_type": "execute_result"
    }
   ],
   "source": [
    "(1,2,3) in dic # True if key exists in the dictionary"
   ]
  },
  {
   "cell_type": "code",
   "execution_count": 23,
   "metadata": {},
   "outputs": [
    {
     "data": {
      "text/plain": [
       "True"
      ]
     },
     "execution_count": 23,
     "metadata": {},
     "output_type": "execute_result"
    }
   ],
   "source": [
    "3.1415 not in dic # True if key does not exist in dictionary"
   ]
  },
  {
   "cell_type": "markdown",
   "metadata": {},
   "source": [
    "#### Accessing non-existing keys will give error.\n",
    "#### So we always use \"in\" operator to access keys."
   ]
  },
  {
   "cell_type": "code",
   "execution_count": 29,
   "metadata": {},
   "outputs": [
    {
     "ename": "KeyError",
     "evalue": "'car'",
     "output_type": "error",
     "traceback": [
      "\u001b[1;31m---------------------------------------------------------------------------\u001b[0m",
      "\u001b[1;31mKeyError\u001b[0m                                  Traceback (most recent call last)",
      "\u001b[1;32m<ipython-input-29-68d6bc71c1e3>\u001b[0m in \u001b[0;36m<module>\u001b[1;34m()\u001b[0m\n\u001b[0;32m      1\u001b[0m \u001b[0mwords\u001b[0m \u001b[1;33m=\u001b[0m \u001b[1;33m{\u001b[0m\u001b[1;34m\"house\"\u001b[0m\u001b[1;33m:\u001b[0m\u001b[1;34m\"Haus\"\u001b[0m\u001b[1;33m,\u001b[0m \u001b[1;34m\"cat\"\u001b[0m\u001b[1;33m:\u001b[0m\u001b[1;34m\"Katze\"\u001b[0m\u001b[1;33m}\u001b[0m\u001b[1;33m\u001b[0m\u001b[0m\n\u001b[1;32m----> 2\u001b[1;33m \u001b[0mwords\u001b[0m\u001b[1;33m[\u001b[0m\u001b[1;34m\"car\"\u001b[0m\u001b[1;33m]\u001b[0m\u001b[1;33m\u001b[0m\u001b[0m\n\u001b[0m",
      "\u001b[1;31mKeyError\u001b[0m: 'car'"
     ]
    }
   ],
   "source": [
    "words = {\"house\":\"Haus\", \"cat\":\"Katze\"}\n",
    "words[\"car\"]"
   ]
  },
  {
   "cell_type": "code",
   "execution_count": 30,
   "metadata": {},
   "outputs": [
    {
     "name": "stdout",
     "output_type": "stream",
     "text": [
      "Katze\n"
     ]
    }
   ],
   "source": [
    "if \"cat\" in words:\n",
    "    print(words[\"cat\"])"
   ]
  },
  {
   "cell_type": "markdown",
   "metadata": {},
   "source": [
    "#### Dictionary can be copied using copy() method"
   ]
  },
  {
   "cell_type": "code",
   "execution_count": 33,
   "metadata": {},
   "outputs": [
    {
     "name": "stdout",
     "output_type": "stream",
     "text": [
      "{'house': 'Haus', 'cat': 'Katze'}\n"
     ]
    }
   ],
   "source": [
    "w = words.copy()\n",
    "words[\"cat\"] = \"chat\"\n",
    "print(w)"
   ]
  },
  {
   "cell_type": "markdown",
   "metadata": {},
   "source": [
    "#### Dictionaries can be merged with update() function. But same keys will be overwritten."
   ]
  },
  {
   "cell_type": "code",
   "execution_count": 35,
   "metadata": {},
   "outputs": [
    {
     "name": "stdout",
     "output_type": "stream",
     "text": [
      "{'house': 'Haus', 'cat': 'Katze', 'red': 'rouge', 'blau': 'bleu'}\n"
     ]
    }
   ],
   "source": [
    "w1 = {\"red\":\"rouge\", \"blau\":\"bleu\"}\n",
    "w.update(w1)\n",
    "print(w)"
   ]
  },
  {
   "cell_type": "markdown",
   "metadata": {},
   "source": [
    "#### Iterating in dictionaries\n",
    "\n",
    "#### Iterating over keys does not require special method"
   ]
  },
  {
   "cell_type": "code",
   "execution_count": 37,
   "metadata": {},
   "outputs": [
    {
     "name": "stdout",
     "output_type": "stream",
     "text": [
      "house\n",
      "cat\n",
      "red\n",
      "blau\n"
     ]
    }
   ],
   "source": [
    "for key in w:\n",
    "    print(key)"
   ]
  },
  {
   "cell_type": "markdown",
   "metadata": {},
   "source": [
    "#### Iterating over values."
   ]
  },
  {
   "cell_type": "code",
   "execution_count": 41,
   "metadata": {},
   "outputs": [
    {
     "name": "stdout",
     "output_type": "stream",
     "text": [
      "Haus\n",
      "Katze\n",
      "rouge\n",
      "bleu\n"
     ]
    }
   ],
   "source": [
    "for key,val in w.items():\n",
    "    print(val)"
   ]
  },
  {
   "cell_type": "markdown",
   "metadata": {},
   "source": [
    "#### Getting keys and values from a dictionary i.e. converting to lists"
   ]
  },
  {
   "cell_type": "code",
   "execution_count": 43,
   "metadata": {},
   "outputs": [
    {
     "name": "stdout",
     "output_type": "stream",
     "text": [
      "dict_items([('house', 'Haus'), ('cat', 'Katze'), ('red', 'rouge'), ('blau', 'bleu')])\n"
     ]
    }
   ],
   "source": [
    "print(w.items()) # Key - Value pairs"
   ]
  },
  {
   "cell_type": "code",
   "execution_count": 44,
   "metadata": {},
   "outputs": [
    {
     "name": "stdout",
     "output_type": "stream",
     "text": [
      "dict_keys(['house', 'cat', 'red', 'blau'])\n"
     ]
    }
   ],
   "source": [
    "print(w.keys()) # Just keys"
   ]
  },
  {
   "cell_type": "code",
   "execution_count": 45,
   "metadata": {},
   "outputs": [
    {
     "name": "stdout",
     "output_type": "stream",
     "text": [
      "dict_values(['Haus', 'Katze', 'rouge', 'bleu'])\n"
     ]
    }
   ],
   "source": [
    "print(w.values()) # Just values"
   ]
  },
  {
   "cell_type": "markdown",
   "metadata": {},
   "source": [
    "#### Creating dictionaries from lists. If lists are not equal, extra elements from longer list will not be used."
   ]
  },
  {
   "cell_type": "code",
   "execution_count": 48,
   "metadata": {},
   "outputs": [
    {
     "name": "stdout",
     "output_type": "stream",
     "text": [
      "{'Italy': 'pizza', 'Germany': 'sauerkraut', 'spain': 'paella', 'USA': 'hamburger'}\n"
     ]
    }
   ],
   "source": [
    "country = [\"Italy\", \"Germany\", \"spain\", \"USA\"]\n",
    "dishes = [\"pizza\", \"sauerkraut\",  \"paella\", \"hamburger\"]\n",
    "\n",
    "country_specials = zip(country, dishes) # Zipping elements into tuple pairs\n",
    "\n",
    "country_specials_dict = dict(country_specials) # Converting to dictionary\n",
    "print(country_specials_dict)"
   ]
  },
  {
   "cell_type": "markdown",
   "metadata": {},
   "source": [
    "#### Clearing contents of a dictionary"
   ]
  },
  {
   "cell_type": "code",
   "execution_count": 52,
   "metadata": {},
   "outputs": [
    {
     "name": "stdout",
     "output_type": "stream",
     "text": [
      "{}\n"
     ]
    }
   ],
   "source": [
    "w.clear()\n",
    "print(w)"
   ]
  },
  {
   "cell_type": "markdown",
   "metadata": {},
   "source": [
    "### Array (Dynamically Resizing Array)\n",
    "#### - Resizes itself as needed while still providing O(1) access.\n",
    "#### - When array is full, it doubles in size.\n",
    "#### - Each doubling takes O(n) time, but happes rarely, so amortized time is still O(1)."
   ]
  },
  {
   "cell_type": "markdown",
   "metadata": {},
   "source": [
    "#### In Python, Dynamic Array is implemented via List (or Numpy array)\n",
    "#### We will cover Lists\n",
    "\n",
    "#### List implementation - Simple List"
   ]
  },
  {
   "cell_type": "code",
   "execution_count": 53,
   "metadata": {},
   "outputs": [
    {
     "data": {
      "text/plain": [
       "['Python', 'C', 'C++', 'Java', 'Perl']"
      ]
     },
     "execution_count": 53,
     "metadata": {},
     "output_type": "execute_result"
    }
   ],
   "source": [
    "languages = [\"Python\", \"C\", \"C++\", \"Java\", \"Perl\"]\n",
    "languages"
   ]
  },
  {
   "cell_type": "markdown",
   "metadata": {},
   "source": [
    "#### List elements can be accessed through indices"
   ]
  },
  {
   "cell_type": "code",
   "execution_count": 55,
   "metadata": {},
   "outputs": [
    {
     "data": {
      "text/plain": [
       "'Python'"
      ]
     },
     "execution_count": 55,
     "metadata": {},
     "output_type": "execute_result"
    }
   ],
   "source": [
    "languages[0]"
   ]
  },
  {
   "cell_type": "code",
   "execution_count": 56,
   "metadata": {},
   "outputs": [
    {
     "data": {
      "text/plain": [
       "['C++', 'Java']"
      ]
     },
     "execution_count": 56,
     "metadata": {},
     "output_type": "execute_result"
    }
   ],
   "source": [
    "languages[2:4]"
   ]
  },
  {
   "cell_type": "code",
   "execution_count": 57,
   "metadata": {},
   "outputs": [
    {
     "data": {
      "text/plain": [
       "['Python', 'C', 'C++', 'Java']"
      ]
     },
     "execution_count": 57,
     "metadata": {},
     "output_type": "execute_result"
    }
   ],
   "source": [
    "languages[:4] # Lack of value is 0 by default"
   ]
  },
  {
   "cell_type": "code",
   "execution_count": 59,
   "metadata": {},
   "outputs": [
    {
     "data": {
      "text/plain": [
       "['C', 'C++', 'Java']"
      ]
     },
     "execution_count": 59,
     "metadata": {},
     "output_type": "execute_result"
    }
   ],
   "source": [
    "languages[-4:-1] # Negative indexing"
   ]
  },
  {
   "cell_type": "code",
   "execution_count": 62,
   "metadata": {},
   "outputs": [
    {
     "data": {
      "text/plain": [
       "['Perl', 'Java', 'C++', 'C']"
      ]
     },
     "execution_count": 62,
     "metadata": {},
     "output_type": "execute_result"
    }
   ],
   "source": [
    "languages[5:0:-1] # Reverse indexing using 'step' in 3rd parameter"
   ]
  },
  {
   "cell_type": "markdown",
   "metadata": {},
   "source": [
    "#### List Implementation - List of lists"
   ]
  },
  {
   "cell_type": "code",
   "execution_count": 64,
   "metadata": {
    "collapsed": true
   },
   "outputs": [],
   "source": [
    "person = [[\"Marc\", \"Mayer\"], [\"17, Oxford Str\", \"12345\", \"London\"],\"0128-2435\"]"
   ]
  },
  {
   "cell_type": "markdown",
   "metadata": {},
   "source": [
    "#### Accessing sub-lists"
   ]
  },
  {
   "cell_type": "code",
   "execution_count": 67,
   "metadata": {},
   "outputs": [
    {
     "name": "stdout",
     "output_type": "stream",
     "text": [
      "First Name: Marc\n",
      "Address: ['17, Oxford Str', '12345', 'London']\n",
      "Phone: 0128-2435\n"
     ]
    }
   ],
   "source": [
    "print(\"First Name: \" + person[0][0])\n",
    "print(\"Address: \" + str(person[1]))\n",
    "print(\"Phone: \" + person[2])"
   ]
  },
  {
   "cell_type": "markdown",
   "metadata": {},
   "source": [
    "### String Buffer\n",
    "#### - It reduces the space and time complexity of normal string operations\n",
    "#### - Ordinary string concat would require creation of a new string to hold original strings.\n",
    "#### - The time complexity of this is also O(n^2)\n",
    "#### - String Buffer simply creates and array of strings, copying it back to a string only when necessary."
   ]
  },
  {
   "cell_type": "markdown",
   "metadata": {},
   "source": [
    "#### The Python implementation of this is \"String\"\n",
    "\n",
    "#### Simple string implementation"
   ]
  },
  {
   "cell_type": "code",
   "execution_count": 72,
   "metadata": {
    "collapsed": true
   },
   "outputs": [],
   "source": [
    "txt = \"Hello World\""
   ]
  },
  {
   "cell_type": "markdown",
   "metadata": {},
   "source": [
    "#### Indexing of strings"
   ]
  },
  {
   "cell_type": "code",
   "execution_count": 74,
   "metadata": {},
   "outputs": [
    {
     "data": {
      "text/plain": [
       "'H'"
      ]
     },
     "execution_count": 74,
     "metadata": {},
     "output_type": "execute_result"
    }
   ],
   "source": [
    "txt[0]"
   ]
  },
  {
   "cell_type": "markdown",
   "metadata": {},
   "source": [
    "#### Negative indexing"
   ]
  },
  {
   "cell_type": "code",
   "execution_count": 76,
   "metadata": {},
   "outputs": [
    {
     "data": {
      "text/plain": [
       "'d'"
      ]
     },
     "execution_count": 76,
     "metadata": {},
     "output_type": "execute_result"
    }
   ],
   "source": [
    "txt[-1]"
   ]
  },
  {
   "cell_type": "markdown",
   "metadata": {},
   "source": [
    "### Generalization of Strings and Lists\n",
    "\n",
    "#### Lists and Strings have many common properties:\n",
    "#### - Elements of List or String appear in same order\n",
    "#### - Individual elements (or characters) can be accessed through indices\n",
    "\n",
    "#### Some common properties are explained below: "
   ]
  },
  {
   "cell_type": "markdown",
   "metadata": {},
   "source": [
    "#### Slicing\n",
    "#### - Unlike other languages, Python makes it easy to slice strings\n",
    "#### - We need the slicing operator, just like when we needed for getting single character."
   ]
  },
  {
   "cell_type": "code",
   "execution_count": 79,
   "metadata": {},
   "outputs": [
    {
     "name": "stdout",
     "output_type": "stream",
     "text": [
      "Python\n",
      "n is great\n",
      "Python is \n"
     ]
    }
   ],
   "source": [
    "str = \"Python is great\"\n",
    "first_six = str[0:6]\n",
    "start_from_five = str[5:]\n",
    "not_last_five = str[0:-5]\n",
    "print(first_six)\n",
    "print(start_from_five)\n",
    "print(not_last_five)"
   ]
  },
  {
   "cell_type": "markdown",
   "metadata": {},
   "source": [
    "#### We can also use step argument in slicing to get certain characters in linear pattern"
   ]
  },
  {
   "cell_type": "code",
   "execution_count": 81,
   "metadata": {},
   "outputs": [
    {
     "data": {
      "text/plain": [
       "'Pto sget'"
      ]
     },
     "execution_count": 81,
     "metadata": {},
     "output_type": "execute_result"
    }
   ],
   "source": [
    "str[::2]"
   ]
  },
  {
   "cell_type": "markdown",
   "metadata": {},
   "source": [
    "#### Length\n",
    "#### - Just like Lists, we can use the same operator len()"
   ]
  },
  {
   "cell_type": "code",
   "execution_count": 84,
   "metadata": {},
   "outputs": [
    {
     "data": {
      "text/plain": [
       "15"
      ]
     },
     "execution_count": 84,
     "metadata": {},
     "output_type": "execute_result"
    }
   ],
   "source": [
    "len(str)"
   ]
  },
  {
   "cell_type": "code",
   "execution_count": 86,
   "metadata": {},
   "outputs": [
    {
     "data": {
      "text/plain": [
       "3"
      ]
     },
     "execution_count": 86,
     "metadata": {},
     "output_type": "execute_result"
    }
   ],
   "source": [
    "a = [\"Basil\", 10, \"Augment\"]\n",
    "len(a)"
   ]
  },
  {
   "cell_type": "code",
   "execution_count": 87,
   "metadata": {},
   "outputs": [
    {
     "data": {
      "text/plain": [
       "5"
      ]
     },
     "execution_count": 87,
     "metadata": {},
     "output_type": "execute_result"
    }
   ],
   "source": [
    "len(a[0])"
   ]
  },
  {
   "cell_type": "markdown",
   "metadata": {},
   "source": [
    "#### Concatenation\n",
    "#### - By using the + operator or +="
   ]
  },
  {
   "cell_type": "code",
   "execution_count": 89,
   "metadata": {},
   "outputs": [
    {
     "name": "stdout",
     "output_type": "stream",
     "text": [
      "Homer Simpson\n"
     ]
    }
   ],
   "source": [
    "firstname = \"Homer\"\n",
    "lastname = \"Simpson\"\n",
    "\n",
    "name = firstname + \" \" + lastname\n",
    "print(name)"
   ]
  },
  {
   "cell_type": "markdown",
   "metadata": {},
   "source": [
    "#### Containment\n",
    "#### - We can check if a string or character is a part of a string using \"in\" operator"
   ]
  },
  {
   "cell_type": "code",
   "execution_count": 91,
   "metadata": {},
   "outputs": [
    {
     "data": {
      "text/plain": [
       "True"
      ]
     },
     "execution_count": 91,
     "metadata": {},
     "output_type": "execute_result"
    }
   ],
   "source": [
    "\"Python\" in str"
   ]
  },
  {
   "cell_type": "code",
   "execution_count": 92,
   "metadata": {},
   "outputs": [
    {
     "data": {
      "text/plain": [
       "False"
      ]
     },
     "execution_count": 92,
     "metadata": {},
     "output_type": "execute_result"
    }
   ],
   "source": [
    "\"Java\" in str"
   ]
  },
  {
   "cell_type": "code",
   "execution_count": null,
   "metadata": {
    "collapsed": true
   },
   "outputs": [],
   "source": []
  },
  {
   "cell_type": "markdown",
   "metadata": {
    "collapsed": true
   },
   "source": [
    "### Interview Questions"
   ]
  },
  {
   "cell_type": "markdown",
   "metadata": {
    "collapsed": true
   },
   "source": [
    "#### Q.1. Implement algo to determine if a string has \"all\" unique characters, without using additional data structures."
   ]
  },
  {
   "cell_type": "markdown",
   "metadata": {
    "collapsed": true
   },
   "source": [
    "#### Answer:\n",
    "#### Assumptions-\n",
    "#### - The string contains *only ASCII* characters. If there is requirement for Unicode characters too, then we will need larger array.\n",
    "#### - The function only gives Boolean answer ie. Duplication id present / not present\n",
    "\n",
    "#### Solution-\n",
    "#### - Check length of string. If length is > 128(ie.Number of unique ASCII characters), return False.\n",
    "#### - Create array of boolean values of length 128.\n",
    "#### - For every character, check its ASCII value and store a True for that index in the Array.\n",
    "#### - But before doing so, check if a True already exists in that index. If Yes, then return False.\n",
    "#### - After going through the entire string, if no repetition is found, return True.\n",
    "\n",
    "#### Time Complexity - O(n) (n - length of string)\n",
    "#### Space Complexity - O(1)"
   ]
  },
  {
   "cell_type": "code",
   "execution_count": 99,
   "metadata": {},
   "outputs": [
    {
     "name": "stderr",
     "output_type": "stream",
     "text": [
      ".\n",
      "----------------------------------------------------------------------\n",
      "Ran 1 test in 0.007s\n",
      "\n",
      "OK\n"
     ]
    }
   ],
   "source": [
    "import unittest\n",
    "\n",
    "def unique(string):\n",
    "    \n",
    "    #Checking if length > 128\n",
    "    if len(string) > 128:\n",
    "        return False\n",
    "    \n",
    "    # Creating Boolean Array with False values\n",
    "    char_set = [False for _ in range(128)]\n",
    "    \n",
    "    # Checking for replication\n",
    "    for ch in string:\n",
    "        ascii_val = ord(ch)\n",
    "        if char_set[ascii_val]:  # True already present in the Index\n",
    "            return False\n",
    "        # Just store True in the Index of that ASCII value\n",
    "        char_set[ascii_val] = True\n",
    "        \n",
    "    # If no duplication found, return True\n",
    "    return True\n",
    "\n",
    "# Some unit Test cases\n",
    "class Test(unittest.TestCase):\n",
    "    dataT = [('abcd'), ('s456afg'), ('')]\n",
    "    dataF = [('232fgf'), ('gf 567gh=()')]\n",
    "    \n",
    "    def test_unique(self):\n",
    "        # +ve test cases\n",
    "        for test_string in self.dataT:\n",
    "            actual = unique(test_string)\n",
    "            self.assertTrue(actual)\n",
    "            \n",
    "        # -ve test cases\n",
    "        for test_string in self.dataF:\n",
    "            actual = unique(test_string)\n",
    "            self.assertFalse(actual)\n",
    "            \n",
    "# Running the main program\n",
    "# if __name__ == \"__main__\":\n",
    "#     unittest.main()\n",
    "if __name__ == '__main__':\n",
    "    unittest.main(argv=['first-arg-is-ignored'], exit=False)"
   ]
  },
  {
   "cell_type": "markdown",
   "metadata": {
    "collapsed": true
   },
   "source": [
    "#### Q.2. Reverse a (null-terminated)string in C/C++"
   ]
  },
  {
   "cell_type": "markdown",
   "metadata": {
    "collapsed": true
   },
   "source": [
    "#### Answer:\n",
    "#### Assumptions-\n",
    "#### - We are using Python which has and easy slicing operator for strings\n",
    "#### - Question was meant for C/C++ language specifically\n",
    "\n",
    "#### Solution-\n",
    "#### - Use the inbuilt slicing operator in Python\n",
    " \n",
    "#### Time Complexity - O(1)\n",
    "#### Space Complexity - O(1)"
   ]
  },
  {
   "cell_type": "code",
   "execution_count": 1,
   "metadata": {},
   "outputs": [
    {
     "name": "stdout",
     "output_type": "stream",
     "text": [
      "dlroW olleH\n"
     ]
    }
   ],
   "source": [
    "str = \"Hello World\"\n",
    "print(str[::-1])"
   ]
  },
  {
   "cell_type": "markdown",
   "metadata": {
    "collapsed": true
   },
   "source": [
    "#### Q.3. Given 2 strings, find out if one is the permutation of the other."
   ]
  },
  {
   "cell_type": "markdown",
   "metadata": {},
   "source": [
    "#### Answer:\n",
    "#### Assumptions-\n",
    "#### - Is case significant? eg: are \"God\" and \"dog\" anagrams? We are assuming strings has same case.\n",
    "#### - Is whitespace significant? eg: are \"god   \" and \"dog\" anangrams? We are assuming no whitespace.\n",
    "#### - Assuming character set is ASCII\n",
    "\n",
    "#### Solution-\n",
    "#### - First check length of the strings. If they are unequal, they fail.\n",
    "#### - Next check individual count of each character for 1st string.\n",
    "#### - For 2nd string, reduce the counter each time you get a character. If the counter for a character is 0, then the strings fail.\n",
    "#### - We will be using the Counter data structure that stores the count of individual characters in a string. It is an unordered collection where elements are stored as dictionary keys and their counts are stored as dictionary values\n",
    "\n",
    "#### Time Complexity - O(n)\n",
    "#### Space Complexity - O(1)"
   ]
  },
  {
   "cell_type": "code",
   "execution_count": 5,
   "metadata": {},
   "outputs": [
    {
     "name": "stderr",
     "output_type": "stream",
     "text": [
      ".\n",
      "----------------------------------------------------------------------\n",
      "Ran 1 test in 0.006s\n",
      "\n",
      "OK\n"
     ]
    }
   ],
   "source": [
    "import unittest\n",
    "from collections import Counter\n",
    "\n",
    "def permutation_check(str1, str2):\n",
    "    if len(str1) != len(str2):\n",
    "        return False\n",
    "    \n",
    "    counter = Counter()\n",
    "    for c in str1:\n",
    "        counter[c] += 1\n",
    "    for c in str2:\n",
    "        if counter[c] == 0:\n",
    "            return False\n",
    "        counter[c] -= 1\n",
    "        \n",
    "    return True\n",
    "\n",
    "\n",
    "# Some unit Test cases\n",
    "class Test(unittest.TestCase):\n",
    "    dataT = (\n",
    "            ('abcd', 'bacd'),\n",
    "            ('12345', '52413'),\n",
    "            ('wef432', 'fe342w')\n",
    "    )\n",
    "    dataF = (\n",
    "            ('asfdgc', 'afsgds'),\n",
    "            ('123763', '142639'),\n",
    "            ('a', 'ab')\n",
    "    )\n",
    "    \n",
    "    def test_anagram(self):\n",
    "        # +ve test cases\n",
    "        for test_strings in self.dataT:\n",
    "            actual = permutation_check(*test_strings)\n",
    "            self.assertTrue(actual)\n",
    "            \n",
    "        # -ve test cases\n",
    "        for test_strings in self.dataF:\n",
    "            actual = permutation_check(*test_strings)\n",
    "            self.assertFalse(actual)\n",
    "            \n",
    "# Running the main program\n",
    "# if __name__ == \"__main__\":\n",
    "#     unittest.main()\n",
    "if __name__ == '__main__':\n",
    "    unittest.main(argv=['first-arg-is-ignored'], exit=False)"
   ]
  },
  {
   "cell_type": "markdown",
   "metadata": {},
   "source": [
    "#### Q.4. URLify (replace space with '%20) a string."
   ]
  },
  {
   "cell_type": "markdown",
   "metadata": {},
   "source": [
    "#### Answer:\n",
    "#### Assumptions-\n",
    "#### - The string has enough spaces to accomodate all the '%20'\n",
    "#### - We are given the 'true' length of the string i.e. ignoring trailing white-space, which is actually buffer\n",
    "\n",
    "#### Solution-\n",
    "#### - We will edit string from the end as there is more buffer to work around.\n",
    "#### - We will have 2 indexes - i: which does the traversing, and new_index: which will be the index the character i has to be moved to.\n",
    "#### - Bothe i and new_index start at the same point i.e. the end of the string.\n",
    "#### - Whenever we see a space at i, we replace 3 values of the new_index with '%20' and move the new_index closer to start of the string.\n",
    "#### - Whenever we see a character at i, we move it to the location of (new_index-1).\n",
    "#### - strings ar immutable in Python, so we will convert it to List.\n",
    "\n",
    "#### Time Complexity - O(n)\n",
    "#### Space Complexity - O(1)"
   ]
  },
  {
   "cell_type": "code",
   "execution_count": 6,
   "metadata": {},
   "outputs": [
    {
     "name": "stderr",
     "output_type": "stream",
     "text": [
      ".\n",
      "----------------------------------------------------------------------\n",
      "Ran 1 test in 0.120s\n",
      "\n",
      "OK\n"
     ]
    }
   ],
   "source": [
    "import unittest\n",
    "\n",
    "def urlify(string, length):\n",
    "    new_index = len(string)\n",
    "    \n",
    "    for i in reversed(range(length)):\n",
    "        if string[i] == ' ':\n",
    "            string[new_index - 3:new_index] = '%20'\n",
    "            new_index -= 3\n",
    "        else:\n",
    "            string[new_index - 1] = string[i]\n",
    "            new_index -= 1\n",
    "            \n",
    "    return string\n",
    "\n",
    "\n",
    "# Some unit Test cases\n",
    "class Test(unittest.TestCase):\n",
    "    data = [\n",
    "        (list('much ado about nothing      '), 22,\n",
    "         list('much%20ado%20about%20nothing')),\n",
    "        (list('Mr John Smith    '), 13, list('Mr%20John%20Smith'))]\n",
    "    \n",
    "    def test_urlify(self):\n",
    "        # +ve test cases\n",
    "        for [test_string, length, expected] in self.data:\n",
    "            actual = urlify(test_string, length)\n",
    "            self.assertEqual(actual, expected)\n",
    "\n",
    "            \n",
    "# Running the main program\n",
    "# if __name__ == \"__main__\":\n",
    "#     unittest.main()\n",
    "if __name__ == '__main__':\n",
    "    unittest.main(argv=['first-arg-is-ignored'], exit=False)"
   ]
  },
  {
   "cell_type": "markdown",
   "metadata": {},
   "source": [
    "#### Q.5. Given a string with multiple occurence of repeated characters, compress it to character followed by number of occureneces.\n",
    "#### eg: aabbbbcdd -> a2b4c1d2"
   ]
  },
  {
   "cell_type": "markdown",
   "metadata": {},
   "source": [
    "#### Answer:\n",
    "#### Assumptions-\n",
    "#### - All the characters are ASCII\n",
    "#### - There can be a possibility that compressed string may be longer than actual string (if no characters have repetitions).\n",
    "\n",
    "#### Solution-\n",
    "#### - We create 2 variables: a list and a counter\n",
    "#### - We traverse through the string.\n",
    "#### - If a character (not being the first character of the string) is not the same as the character before it, we append the character and the counter to the list.\n",
    "#### - Else, we simply increment the counter\n",
    "#### - Our loop does not append the occurences of the last character in the string. So that has to be done seperately after end of the loop.\n",
    "#### - After the traversal is complete, we either return the list converted to a string, or the original string if the compressed string is longer.\n",
    "\n",
    "#### Time Complexity - O(n)\n",
    "#### Space Complexity -"
   ]
  },
  {
   "cell_type": "code",
   "execution_count": 16,
   "metadata": {},
   "outputs": [
    {
     "name": "stderr",
     "output_type": "stream",
     "text": [
      "E\n",
      "======================================================================\n",
      "ERROR: test_str_compress (__main__.Test)\n",
      "----------------------------------------------------------------------\n",
      "Traceback (most recent call last):\n",
      "  File \"<ipython-input-16-3c141cd296a6>\", line 29, in test_str_compress\n",
      "    actual = string_compression(test_string)\n",
      "  File \"<ipython-input-16-3c141cd296a6>\", line 10, in string_compression\n",
      "    counter_str = str(counter)\n",
      "TypeError: 'str' object is not callable\n",
      "\n",
      "----------------------------------------------------------------------\n",
      "Ran 1 test in 0.006s\n",
      "\n",
      "FAILED (errors=1)\n"
     ]
    }
   ],
   "source": [
    "import unittest\n",
    "\n",
    "def string_compression(string):\n",
    "    compressed = []\n",
    "    counter = 0\n",
    "\n",
    "    for i in range(len(string)):\n",
    "        if i != 0 and string[i] != string[i - 1]:\n",
    "            compressed.append(string[i - 1])\n",
    "            counter_str = str(counter)\n",
    "            compressed.append(counter_str)\n",
    "            counter = 0\n",
    "        counter += 1\n",
    "\n",
    "    compressed.append(string[-1])\n",
    "    counter_str = str(counter)\n",
    "    compressed.append(counter_str)\n",
    "\n",
    "    return min(string, ''.join(compressed), key=len)\n",
    "\n",
    "# Some unit Test cases\n",
    "class Test(unittest.TestCase):\n",
    "    data = [('aaaafffeeeuu', 'a4f3e3u2'),\n",
    "           ('abcdef', 'abcdef')\n",
    "           ]\n",
    "    \n",
    "    def test_str_compress(self):\n",
    "        for [test_string, expected] in self.data:\n",
    "            actual = string_compression(test_string)\n",
    "            self.assertEqual(actual, expected)\n",
    "            \n",
    "# Running the main program\n",
    "# if __name__ == \"__main__\":\n",
    "#     unittest.main()\n",
    "if __name__ == '__main__':\n",
    "    unittest.main(argv=['first-arg-is-ignored'], exit=False)"
   ]
  },
  {
   "cell_type": "code",
   "execution_count": 17,
   "metadata": {},
   "outputs": [
    {
     "ename": "TypeError",
     "evalue": "'str' object is not callable",
     "output_type": "error",
     "traceback": [
      "\u001b[1;31m---------------------------------------------------------------------------\u001b[0m",
      "\u001b[1;31mTypeError\u001b[0m                                 Traceback (most recent call last)",
      "\u001b[1;32m<ipython-input-17-f8aff8fbe7bf>\u001b[0m in \u001b[0;36m<module>\u001b[1;34m()\u001b[0m\n\u001b[1;32m----> 1\u001b[1;33m \u001b[0mstr\u001b[0m\u001b[1;33m(\u001b[0m\u001b[1;36m12\u001b[0m\u001b[1;33m)\u001b[0m\u001b[1;33m\u001b[0m\u001b[0m\n\u001b[0m",
      "\u001b[1;31mTypeError\u001b[0m: 'str' object is not callable"
     ]
    }
   ],
   "source": [
    "# Getting error in this conversion. Maybe because I may have called a variable 'str' before and that is causing issues.\n",
    "str(12)"
   ]
  },
  {
   "cell_type": "markdown",
   "metadata": {},
   "source": [
    "#### Q.6. Given an image represented by matrix n*n. Each pixel is 4 bytes. Write code to rotate image by 90 degrees clockwise. Also try to do it in place. "
   ]
  },
  {
   "cell_type": "markdown",
   "metadata": {},
   "source": [
    "#### Answer:\n",
    "#### Assumptions-\n",
    "#### - Assuming a matrix of numbers instead of pixels\n",
    "\n",
    "#### Solution-\n",
    "#### - Best way to do this is to implement in layers i.e. outer layers first then moving to inner layers.\n",
    "#### - We will swap layers clockwise eg: top layer to right, right to bottom, bottom to left and left to top.\n",
    "#### - We will do this in place instead of having a temp array. We will achieve this is to swap the indexes of the layers.\n",
    "\n",
    "#### Time Complexity - O(n^2)\n",
    "#### Space Complexity - O(1)"
   ]
  },
  {
   "cell_type": "code",
   "execution_count": 18,
   "metadata": {},
   "outputs": [
    {
     "name": "stderr",
     "output_type": "stream",
     "text": [
      ".\n",
      "----------------------------------------------------------------------\n",
      "Ran 1 test in 0.007s\n",
      "\n",
      "OK\n"
     ]
    }
   ],
   "source": [
    "import unittest\n",
    "\n",
    "def rotate_matrix(matrix):\n",
    "    \n",
    "    n = len(matrix)\n",
    "    for layer in range(n // 2):\n",
    "        first, last = layer, n- layer - 1\n",
    "        for i in range(first, last):\n",
    "            # Saving top\n",
    "            top = matrix[layer][i]\n",
    "            # left -> top\n",
    "            matrix[layer][i] = matrix[-i-1][layer]\n",
    "            # bottom -> left\n",
    "            matrix[-i-1][layer] = matrix[-layer-1][-i-1]\n",
    "            # right -> bottom\n",
    "            matrix[-layer-1][-i-1] = matrix[i][-layer-1]\n",
    "            # top -> right\n",
    "            matrix[i][-layer-1] = top\n",
    "        \n",
    "    return matrix\n",
    "\n",
    "\n",
    "# Some unit Test cases\n",
    "class Test(unittest.TestCase):\n",
    "    data = [\n",
    "        ([\n",
    "            [1, 2, 3, 4, 5],\n",
    "            [6, 7, 8, 9, 10],\n",
    "            [11, 12, 13, 14, 15],\n",
    "            [16, 17, 18, 19, 20],\n",
    "            [21, 22, 23, 24, 25]\n",
    "        ], [\n",
    "            [21, 16, 11, 6, 1],\n",
    "            [22, 17, 12, 7, 2],\n",
    "            [23, 18, 13, 8, 3],\n",
    "            [24, 19, 14, 9, 4],\n",
    "            [25, 20, 15, 10, 5]\n",
    "        ])\n",
    "    ]\n",
    "\n",
    "    \n",
    "    def test_rotate_matrix(self):\n",
    "        for [test_matrix, expected] in self.data:\n",
    "            actual = rotate_matrix(test_matrix)\n",
    "            self.assertEqual(actual, expected)\n",
    "            \n",
    "# Running the main program\n",
    "# if __name__ == \"__main__\":\n",
    "#     unittest.main()\n",
    "if __name__ == '__main__':\n",
    "    unittest.main(argv=['first-arg-is-ignored'], exit=False)"
   ]
  },
  {
   "cell_type": "markdown",
   "metadata": {},
   "source": [
    "#### Q.7. Given an M*N matrix. If an element is 0, then entire row and column is 0."
   ]
  },
  {
   "cell_type": "markdown",
   "metadata": {},
   "source": [
    "#### Answer:\n",
    "#### Assumptions-\n",
    "#### - Cannot traverse and make changes to the original matrix, then our entire matrix will be 0.\n",
    "#### - Once we have a list of rows and columns that have 0s, we do not need to track individual 0s. So no need for an extra matrix and space complexity.\n",
    "\n",
    "#### Solution-\n",
    "#### - We use 2 arrays to keep track of all rows and all the columns with zeros.\n",
    "#### - We make second pass on the same matrix, making a cell 0 if its row or column is 0.\n",
    "\n",
    "#### Time Complexity - O(m*n) where m = no. of rows & n = no. of columns\n",
    "#### Space Complexity - O(1)"
   ]
  },
  {
   "cell_type": "code",
   "execution_count": 19,
   "metadata": {},
   "outputs": [
    {
     "name": "stderr",
     "output_type": "stream",
     "text": [
      ".\n",
      "----------------------------------------------------------------------\n",
      "Ran 1 test in 0.006s\n",
      "\n",
      "OK\n"
     ]
    }
   ],
   "source": [
    "import unittest\n",
    "\n",
    "def zero_matrix(matrix):\n",
    "    m = len(matrix)\n",
    "    n = len(matrix[0])\n",
    "    rows = []\n",
    "    cols = []\n",
    "    \n",
    "    for x in range(m):\n",
    "        for y in range(n):\n",
    "            if matrix[x][y] == 0:\n",
    "                rows.append(x)\n",
    "                cols.append(y)\n",
    "                \n",
    "    for row in rows:\n",
    "        nullify_row(matrix, row)\n",
    "        \n",
    "    for col in cols:\n",
    "        nullify_col(matrix, col)\n",
    "        \n",
    "    return matrix\n",
    "\n",
    "def nullify_row(matrix, row):\n",
    "    for i in range(len(matrix[0])):\n",
    "        matrix[row][i] = 0\n",
    "        \n",
    "def nullify_col(matrix, col):\n",
    "    for i in range(len(matrix)):\n",
    "        matrix[i][col] = 0\n",
    "\n",
    "\n",
    "# Some unit Test cases\n",
    "class Test(unittest.TestCase):\n",
    "    data = [\n",
    "        ([\n",
    "            [1, 2, 3, 4, 0],\n",
    "            [6, 0, 8, 9, 10],\n",
    "            [11, 12, 13, 14, 15],\n",
    "            [16, 0, 18, 19, 20],\n",
    "            [21, 22, 23, 24, 25]\n",
    "        ], [\n",
    "            [0, 0, 0, 0, 0],\n",
    "            [0, 0, 0, 0, 0],\n",
    "            [11, 0, 13, 14, 0],\n",
    "            [0, 0, 0, 0, 0],\n",
    "            [21, 0, 23, 24, 0]\n",
    "        ])\n",
    "    ]\n",
    "    \n",
    "    def test_zero_matrix(self):\n",
    "        for [test_matrix, expected] in self.data:\n",
    "            actual = zero_matrix(test_matrix)\n",
    "            self.assertEqual(actual, expected)\n",
    "            \n",
    "# Running the main program\n",
    "# if __name__ == \"__main__\":\n",
    "#     unittest.main()\n",
    "if __name__ == '__main__':\n",
    "    unittest.main(argv=['first-arg-is-ignored'], exit=False)"
   ]
  },
  {
   "cell_type": "markdown",
   "metadata": {},
   "source": [
    "#### Q.8. Given a function isSubstring() that checks if a word is substring of another, find out if 1 substring is the rotation of another by calling isSubstring() function only once.\n",
    "#### eg: \"waterbottle\" is rotation of \"erbottlewat\"."
   ]
  },
  {
   "cell_type": "markdown",
   "metadata": {},
   "source": [
    "#### Answer:\n",
    "#### Assumptions-\n",
    "#### - Rotation of the string is only on 1 pivot point.\n",
    "\n",
    "#### Solution-\n",
    "#### - Check if the strings are of equal length and not empty.\n",
    "#### - In rotation, we are cutting a string at a point and rearranging the two parts.\n",
    "#### - Lets say the 2 parts of a string s1 is x and y. We have rearranged it to get s2 = yx.\n",
    "#### - But no matter where we cut the string, yx will always be a substring of xyxy.\n",
    "#### - The new string (s2) will always be a substring of s1s1.\n",
    "#### - This is where the isSubstring() function comes in. \n",
    "\n",
    "#### Time Complexity - O(n)\n",
    "#### Space Complexity - "
   ]
  },
  {
   "cell_type": "code",
   "execution_count": 21,
   "metadata": {},
   "outputs": [
    {
     "name": "stderr",
     "output_type": "stream",
     "text": [
      ".\n",
      "----------------------------------------------------------------------\n",
      "Ran 1 test in 0.005s\n",
      "\n",
      "OK\n"
     ]
    }
   ],
   "source": [
    "import unittest\n",
    "\n",
    "def is_substring(string, sub):\n",
    "    return string.find(sub) != -1\n",
    "\n",
    "def string_rotation(s1, s2):\n",
    "    if len(s1) == len(s2) != 0:\n",
    "        return is_substring(s1 + s1, s2)\n",
    "\n",
    "    return False\n",
    "\n",
    "# Some unit Test cases\n",
    "class Test(unittest.TestCase):\n",
    "    data = [\n",
    "        ('waterbottle', 'erbottlewat', True),\n",
    "        ('foo', 'bar', False),\n",
    "        ('foo', 'foofoo', False)\n",
    "    ]\n",
    "    \n",
    "    def test_string_rotation(self):\n",
    "        for [s1, s2, expected] in self.data:\n",
    "            actual = string_rotation(s1, s2)\n",
    "            self.assertEqual(actual, expected)\n",
    "            \n",
    "# Running the main program\n",
    "# if __name__ == \"__main__\":\n",
    "#     unittest.main()\n",
    "if __name__ == '__main__':\n",
    "    unittest.main(argv=['first-arg-is-ignored'], exit=False)"
   ]
  }
 ],
 "metadata": {
  "kernelspec": {
   "display_name": "Python 3",
   "language": "python",
   "name": "python3"
  },
  "language_info": {
   "codemirror_mode": {
    "name": "ipython",
    "version": 3
   },
   "file_extension": ".py",
   "mimetype": "text/x-python",
   "name": "python",
   "nbconvert_exporter": "python",
   "pygments_lexer": "ipython3",
   "version": "3.6.0"
  }
 },
 "nbformat": 4,
 "nbformat_minor": 2
}
